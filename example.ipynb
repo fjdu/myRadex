{
 "cells": [
  {
   "cell_type": "markdown",
   "metadata": {},
   "source": [
    "# MyRadex usage example"
   ]
  },
  {
   "cell_type": "code",
   "execution_count": 1,
   "metadata": {},
   "outputs": [
    {
     "name": "stdout",
     "output_type": "stream",
     "text": [
      "Populating the interactive namespace from numpy and matplotlib\n"
     ]
    }
   ],
   "source": [
    "%pylab inline\n",
    "\n",
    "def lower_keys(p):\n",
    "    return {k.lower(): p[k] for k in p}\n",
    "\n",
    "def print_e(en, f):\n",
    "    for i in range(len(en)):\n",
    "        print('{:9.2f} {:9.2e}'.format(en[i], f[i]))\n",
    "    return\n",
    "\n",
    "def cast_into_dic(col_names, arr):\n",
    "    '''col_names is column_info, and arr is data_transitions (see below).'''\n",
    "    names = col_names.split()\n",
    "    return {names[i]: arr[i,:] for i in range(len(names))}\n",
    "\n",
    "import os"
   ]
  },
  {
   "cell_type": "markdown",
   "metadata": {},
   "source": [
    "# Start using the wrapper"
   ]
  },
  {
   "cell_type": "markdown",
   "metadata": {},
   "source": [
    "## Import the wrapper"
   ]
  },
  {
   "cell_type": "code",
   "execution_count": 2,
   "metadata": {},
   "outputs": [],
   "source": [
    "import wrapper_my_radex\n",
    "wrapper = wrapper_my_radex.myradex_wrapper\n",
    "about_info = wrapper.about.tostring()\n",
    "column_info = wrapper.column_names.tostring()"
   ]
  },
  {
   "cell_type": "markdown",
   "metadata": {},
   "source": [
    "## Load the molecule data\n",
    "\n",
    "**The returned ```n_levels,n_item,n_transitions, n_partners``` are needed for the next step.**"
   ]
  },
  {
   "cell_type": "code",
   "execution_count": 4,
   "metadata": {},
   "outputs": [],
   "source": [
    "n_levels, n_item, n_transitions, n_partners = \\\n",
    "    wrapper.config_basic(os.path.expanduser('~/_c/my_radex/'),\n",
    "                         'ph2co-h2.dat', 2.73, True)"
   ]
  },
  {
   "cell_type": "code",
   "execution_count": 5,
   "metadata": {},
   "outputs": [
    {
     "data": {
      "text/plain": [
       "(41, 19, 107, 2)"
      ]
     },
     "execution_count": 5,
     "metadata": {},
     "output_type": "execute_result"
    }
   ],
   "source": [
    "n_levels, n_item, n_transitions, n_partners"
   ]
  },
  {
   "cell_type": "markdown",
   "metadata": {},
   "source": [
    "## Do the statistical equilibrium calculation"
   ]
  },
  {
   "cell_type": "markdown",
   "metadata": {},
   "source": [
    "### Using the default geometry type"
   ]
  },
  {
   "cell_type": "code",
   "execution_count": 30,
   "metadata": {},
   "outputs": [],
   "source": [
    "params = {'Tkin': 25.0,\n",
    "          'dv_CGS': 1e5,\n",
    "          'dens_X_CGS': 1e6,\n",
    "          'Ncol_X_CGS': 1e15,\n",
    "          'H2_density_CGS': 1e5,\n",
    "          'HI_density_CGS': 1e1,\n",
    "          'oH2_density_CGS': 0.0,\n",
    "          'pH2_densty_CGS': 0.0,\n",
    "          'HII_density_CGS': 0.0,\n",
    "          'Electron_density_CGS': 1e6,\n",
    "          'n_levels': n_levels,\n",
    "          'n_item': n_item,\n",
    "          'n_transitions': n_transitions}\n",
    "\n",
    "\"\"\"The keywords to the wrapper function have to be in\n",
    "lower case, so I have to lower the keys of params.\n",
    "Of course you can use lower case letters from the beginning.\"\"\"\n",
    "\n",
    "params = lower_keys(params)"
   ]
  },
  {
   "cell_type": "code",
   "execution_count": 31,
   "metadata": {},
   "outputs": [],
   "source": [
    "\"\"\"Do the calculation.\n",
    "Return a four element tuple, whose meanings are self-evident.\"\"\"\n",
    "\n",
    "energies,f_occupations,data_transitions,cooling_rate = \\\n",
    "    wrapper.run_one_params(**params)"
   ]
  },
  {
   "cell_type": "markdown",
   "metadata": {},
   "source": [
    "### Calculate the critical densities\n",
    "\n",
    "**You musst run `run_one_params` once before calling `calc_critical_density`** to feed in the physical parameters."
   ]
  },
  {
   "cell_type": "code",
   "execution_count": 32,
   "metadata": {},
   "outputs": [
    {
     "name": "stdout",
     "output_type": "stream",
     "text": [
      "41 19 40 2\n"
     ]
    }
   ],
   "source": [
    "n_levels, n_item, n_transitions, n_partners = \\\n",
    "    wrapper.config_basic(os.path.expanduser('~/_c/my_radex/'),\n",
    "                         '12C16O_H2.dat', 2.73, True)\n",
    "print(n_levels, n_item, n_transitions, n_partners)\n",
    "\n",
    "# A dummy call to run_one_params is necessary to feed in the parameters.\n",
    "# This of course could be done better.\n",
    "params.update({'n_levels': n_levels,\n",
    "               'n_item': n_item,\n",
    "               'n_transitions': n_transitions})\n",
    "_ = wrapper.run_one_params(**params)"
   ]
  },
  {
   "cell_type": "code",
   "execution_count": 33,
   "metadata": {},
   "outputs": [
    {
     "name": "stdout",
     "output_type": "stream",
     "text": [
      "Collisional partner 0\n",
      "2 1 4.972e+02\n",
      "3 2 4.070e+03\n",
      "4 3 1.385e+04\n",
      "5 4 3.270e+04\n",
      "6 5 6.295e+04\n",
      "7 6 1.052e+05\n",
      "8 7 1.596e+05\n",
      "9 8 2.270e+05\n",
      "10 9 3.068e+05\n",
      "11 10 4.023e+05\n",
      "Collisional partner 1\n",
      "2 1 4.408e+02\n",
      "3 2 3.635e+03\n",
      "4 3 1.150e+04\n",
      "5 4 2.720e+04\n",
      "6 5 5.287e+04\n",
      "7 6 9.042e+04\n",
      "8 7 1.415e+05\n",
      "9 8 2.048e+05\n",
      "10 9 2.833e+05\n",
      "11 10 3.831e+05\n"
     ]
    }
   ],
   "source": [
    "tau = 1e-10 # optically thin\n",
    "n_cri, iup, ilow = wrapper.calc_critical_density(tau, n_partners, n_transitions)\n",
    "\n",
    "ntran_show = 10\n",
    "\n",
    "for j in range(n_partners):\n",
    "    print('Collisional partner', j)\n",
    "    for i in range(ntran_show):\n",
    "        print(iup[i], ilow[i], '{:.3e}'.format(n_cri[j,i]))"
   ]
  },
  {
   "cell_type": "markdown",
   "metadata": {},
   "source": [
    "**Calculate the column density with the old definition, aka.**\n",
    "$$n_\\text{crit,old}\\equiv \\frac{A_{ij}}{\\gamma_{ij}}$$"
   ]
  },
  {
   "cell_type": "code",
   "execution_count": 34,
   "metadata": {},
   "outputs": [
    {
     "name": "stdout",
     "output_type": "stream",
     "text": [
      "Collisional partner 0\n",
      "2 1 2.214e+03\n",
      "3 2 1.100e+04\n",
      "4 3 3.634e+04\n",
      "5 4 8.566e+04\n",
      "6 5 1.742e+05\n",
      "7 6 3.065e+05\n",
      "8 7 4.790e+05\n",
      "9 8 6.867e+05\n",
      "10 9 9.063e+05\n",
      "11 10 1.143e+06\n",
      "Collisional partner 1\n",
      "2 1 2.151e+03\n",
      "3 2 1.216e+04\n",
      "4 3 3.623e+04\n",
      "5 4 8.408e+04\n",
      "6 5 1.676e+05\n",
      "7 6 2.928e+05\n",
      "8 7 4.584e+05\n",
      "9 8 6.559e+05\n",
      "10 9 8.625e+05\n",
      "11 10 1.128e+06\n"
     ]
    }
   ],
   "source": [
    "tau = 1e-10 # optically thin\n",
    "n_cri, iup, ilow = wrapper.calc_critical_density_old_def(tau, n_partners, n_transitions)\n",
    "\n",
    "ntran_show = 10\n",
    "\n",
    "for j in range(n_partners):\n",
    "    print('Collisional partner', j)\n",
    "    for i in range(ntran_show):\n",
    "        print(iup[i], ilow[i], '{:.3e}'.format(n_cri[j,i]))"
   ]
  },
  {
   "cell_type": "code",
   "execution_count": 29,
   "metadata": {
    "scrolled": false
   },
   "outputs": [
    {
     "name": "stdout",
     "output_type": "stream",
     "text": [
      "26 19 25 2\n",
      "Collisional partner 0\n",
      "2 1 2.965e+05\n",
      "3 2 2.787e+06\n",
      "4 3 1.019e+07\n",
      "5 4 2.347e+07\n",
      "6 5 4.181e+07\n",
      "7 6 6.530e+07\n",
      "8 7 9.531e+07\n",
      "9 8 1.331e+08\n",
      "10 9 1.829e+08\n",
      "11 10 2.427e+08\n",
      "12 11 3.217e+08\n",
      "13 12 4.143e+08\n",
      "14 13 5.362e+08\n",
      "15 14 6.738e+08\n",
      "16 15 8.444e+08\n",
      "Collisional partner 1\n",
      "2 1 3.115e+00\n",
      "3 2 3.751e+01\n",
      "4 3 1.638e+02\n",
      "5 4 4.720e+02\n",
      "6 5 1.087e+03\n",
      "7 6 2.160e+03\n",
      "8 7 4.110e+03\n",
      "9 8 1.336e+04\n",
      "10 9 2.492e+198\n",
      "11 10 3.435e+198\n",
      "12 11 4.591e+198\n",
      "13 12 5.980e+198\n",
      "14 13 7.625e+198\n",
      "15 14 9.546e+198\n",
      "16 15 1.176e+199\n"
     ]
    }
   ],
   "source": [
    "n_levels, n_item, n_transitions, n_partners = \\\n",
    "    wrapper.config_basic(os.path.expanduser('~/_c/my_radex/'),\n",
    "                         'hcn.dat', 2.73, True)\n",
    "print(n_levels, n_item, n_transitions, n_partners)\n",
    "params.update({'n_levels': n_levels,\n",
    "               'n_item': n_item,\n",
    "               'n_transitions': n_transitions})\n",
    "\n",
    "_ = wrapper.run_one_params(**params)\n",
    "\n",
    "tau = 1e-10 # optically thin\n",
    "n_cri, iup, ilow = wrapper.calc_critical_density(tau, n_partners, n_transitions)\n",
    "\n",
    "ntran_show = 15\n",
    "\n",
    "for j in range(n_partners):\n",
    "    print('Collisional partner', j)\n",
    "    for i in range(ntran_show):\n",
    "        print(iup[i], ilow[i], '{:.3e}'.format(n_cri[j,i]))"
   ]
  },
  {
   "cell_type": "code",
   "execution_count": 9,
   "metadata": {},
   "outputs": [],
   "source": [
    "_ = wrapper.run_one_params(**params)"
   ]
  },
  {
   "cell_type": "code",
   "execution_count": 10,
   "metadata": {},
   "outputs": [
    {
     "name": "stdout",
     "output_type": "stream",
     "text": [
      "Collisional partner 0\n",
      "2 1 2.965e+05\n",
      "3 2 2.787e+06\n",
      "4 3 1.019e+07\n",
      "5 4 2.347e+07\n",
      "6 5 4.181e+07\n",
      "Collisional partner 1\n",
      "2 1 3.115e+00\n",
      "3 2 3.751e+01\n",
      "4 3 1.638e+02\n",
      "5 4 4.720e+02\n",
      "6 5 1.087e+03\n"
     ]
    }
   ],
   "source": [
    "tau = 1e-10 # optically thin\n",
    "n_cri, iup, ilow = wrapper.calc_critical_density(tau, n_partners, n_transitions)\n",
    "\n",
    "ntran_show = 5\n",
    "\n",
    "for j in range(n_partners):\n",
    "    print('Collisional partner', j)\n",
    "    for i in range(ntran_show):\n",
    "        print(iup[i], ilow[i], '{:.3e}'.format(n_cri[j,i]))"
   ]
  },
  {
   "cell_type": "markdown",
   "metadata": {},
   "source": [
    "### Specify the geometry type"
   ]
  },
  {
   "cell_type": "code",
   "execution_count": 16,
   "metadata": {},
   "outputs": [],
   "source": [
    "params = {'Tkin': 1e3,\n",
    "          'dv_CGS': 1e5,\n",
    "          'dens_X_CGS': 1e3,\n",
    "          'Ncol_X_CGS': 1e15,\n",
    "          'H2_density_CGS': 1e4,\n",
    "          'HI_density_CGS': 1e1,\n",
    "          'oH2_density_CGS': 0.0,\n",
    "          'pH2_densty_CGS': 0.0,\n",
    "          'HII_density_CGS': 0.0,\n",
    "          'Electron_density_CGS': 1e1,\n",
    "          'n_levels': n_levels,\n",
    "          'n_item': n_item,\n",
    "          'n_transitions': n_transitions,\n",
    "          'geotype': 'lvg'\n",
    "         }\n",
    "\n",
    "params = lower_keys(params)\n",
    "\n",
    "\"\"\"\n",
    "The geotype parameter can take the following values:\n",
    "spherical\n",
    "lvg\n",
    "slab\n",
    "default\n",
    "\"\"\"\n",
    "\n",
    "energies,f_occupations,data_transitions,cooling_rate = \\\n",
    "    wrapper.run_one_params_geometry(**params)"
   ]
  },
  {
   "cell_type": "markdown",
   "metadata": {},
   "source": [
    "# Play with the results\n",
    "\n",
    "1. You may want to transpose ```data_transitions``` to match the expected layout, but you don't have to.\n",
    "1. You may also cast the the results into a python dict using ```cast_into_dic``` defined above."
   ]
  },
  {
   "cell_type": "code",
   "execution_count": 17,
   "metadata": {},
   "outputs": [
    {
     "data": {
      "image/png": "[encoded data removed]",
      "text/plain": [
       "<Figure size 720x360 with 1 Axes>"
      ]
     },
     "metadata": {
      "needs_background": "light"
     },
     "output_type": "display_data"
    }
   ],
   "source": [
    "figure(figsize=(10,5))\n",
    "plot(energies, f_occupations, marker='o')\n",
    "ax = gca()\n",
    "ax.set_xlabel('E (K)')\n",
    "ax.set_ylabel('Occupation')\n",
    "ax.set_ylim((1e-15,1e0))\n",
    "ax.set_xscale('log')\n",
    "ax.set_yscale('log')\n",
    "#set_axis_format(ax, graygrid=True)"
   ]
  },
  {
   "cell_type": "code",
   "execution_count": 15,
   "metadata": {},
   "outputs": [
    {
     "data": {
      "text/plain": [
       "5.551641847271466e-15"
      ]
     },
     "execution_count": 15,
     "metadata": {},
     "output_type": "execute_result"
    }
   ],
   "source": [
    "cooling_rate"
   ]
  },
  {
   "cell_type": "code",
   "execution_count": 16,
   "metadata": {},
   "outputs": [
    {
     "data": {
      "text/plain": [
       "(19, 107)"
      ]
     },
     "execution_count": 16,
     "metadata": {},
     "output_type": "execute_result"
    }
   ],
   "source": [
    "data_transitions.shape"
   ]
  },
  {
   "cell_type": "code",
   "execution_count": 17,
   "metadata": {},
   "outputs": [
    {
     "data": {
      "text/plain": [
       "array(1, dtype=int32)"
      ]
     },
     "execution_count": 17,
     "metadata": {},
     "output_type": "execute_result"
    }
   ],
   "source": [
    "wrapper.flag_good"
   ]
  },
  {
   "cell_type": "code",
   "execution_count": 18,
   "metadata": {},
   "outputs": [
    {
     "data": {
      "text/plain": [
       "array(19, dtype=int32)"
      ]
     },
     "execution_count": 18,
     "metadata": {},
     "output_type": "execute_result"
    }
   ],
   "source": [
    "wrapper.n_item_column"
   ]
  },
  {
   "cell_type": "markdown",
   "metadata": {},
   "source": [
    "**You can stop reading here.  I forgot what I did in the following.**\n",
    "\n",
    "---"
   ]
  },
  {
   "cell_type": "markdown",
   "metadata": {},
   "source": [
    "# Work with other molecules"
   ]
  },
  {
   "cell_type": "code",
   "execution_count": null,
   "metadata": {},
   "outputs": [],
   "source": [
    "n_levels,n_item,n_transitions = \\\n",
    "    wrapper.config_basic(os.path.expanduser('~/not_synced/work/from_others/CHIANTI/toLAMDA/'),\n",
    "                         'O.dat', 5.73, True)\n",
    "\n",
    "params = {'Tkin': 1e3,\n",
    "          'dv_CGS': 1e5,\n",
    "          'dens_X_CGS': 1e6,\n",
    "          'Ncol_X_CGS': 1e15,\n",
    "          'H2_density_CGS': 1e9,\n",
    "          'HI_density_CGS': 1e1,\n",
    "          'oH2_density_CGS': 0.0,\n",
    "          'pH2_densty_CGS': 0.0,\n",
    "          'HII_density_CGS': 0.0,\n",
    "          'Electron_density_CGS': 1e6,\n",
    "          'n_levels': n_levels,\n",
    "          'n_item': n_item,\n",
    "          'n_transitions': n_transitions}\n",
    "\n",
    "params = lower_keys(params)\n",
    "\n",
    "energies,f_occupations,data_transitions,cooling_rate = \\\n",
    "    wrapper.run_one_params(**params)\n",
    "\n",
    "print_e(energies, f_occupations)"
   ]
  },
  {
   "cell_type": "code",
   "execution_count": 11,
   "metadata": {},
   "outputs": [
    {
     "name": "stdout",
     "output_type": "stream",
     "text": [
      "     0.00  1.26e-01\n",
      "    70.07  3.52e-01\n",
      "   188.19  5.22e-01\n",
      " 22036.57  1.65e-10\n",
      " 47031.84  7.89e-23\n",
      " 67312.53  1.41e-33\n"
     ]
    }
   ],
   "source": [
    "n_levels,n_item,n_transitions = \\\n",
    "    wrapper.config_basic('~/not_synced/work/from_others/CHIANTI/toLAMDA/',\n",
    "                         'N+_1e5K.dat', True)\n",
    "\n",
    "params = {'Tkin': 1e3,\n",
    "          'dv_CGS': 1e5,\n",
    "          'dens_X_CGS': 1e6,\n",
    "          'Ncol_X_CGS': 1e15,\n",
    "          'H2_density_CGS': 1e9,\n",
    "          'HI_density_CGS': 1e1,\n",
    "          'oH2_density_CGS': 0.0,\n",
    "          'pH2_densty_CGS': 0.0,\n",
    "          'HII_density_CGS': 0.0,\n",
    "          'Electron_density_CGS': 1e6,\n",
    "          'n_levels': n_levels,\n",
    "          'n_item': n_item,\n",
    "          'n_transitions': n_transitions}\n",
    "\n",
    "lower_keys(params)\n",
    "\n",
    "energies,f_occupations,data_transitions,cooling_rate = \\\n",
    "    wrapper.run_one_params(**params)\n",
    "\n",
    "print_e(energies, f_occupations)"
   ]
  },
  {
   "cell_type": "code",
   "execution_count": 55,
   "metadata": {},
   "outputs": [
    {
     "name": "stdout",
     "output_type": "stream",
     "text": [
      "     0.00  1.26e-01\n",
      "    70.07  3.52e-01\n",
      "   188.19  5.22e-01\n",
      " 22036.57  1.65e-10\n",
      " 47031.84  7.89e-23\n",
      " 67312.53  1.41e-33\n"
     ]
    }
   ],
   "source": [
    "n_levels,n_item,n_transitions = \\\n",
    "    wrapper.config_basic('~/not_synced/work/from_others/CHIANTI/toLAMDA/',\n",
    "                         'N+_1e5K.dat', True)\n",
    "\n",
    "params = {'Tkin': 1e3,\n",
    "          'dv_CGS': 1e5,\n",
    "          'dens_X_CGS': 1e6,\n",
    "          'Ncol_X_CGS': 1e15,\n",
    "          'H2_density_CGS': 1e9,\n",
    "          'HI_density_CGS': 1e1,\n",
    "          'oH2_density_CGS': 0.0,\n",
    "          'pH2_densty_CGS': 0.0,\n",
    "          'HII_density_CGS': 0.0,\n",
    "          'Electron_density_CGS': 1e6,\n",
    "          'n_levels': n_levels,\n",
    "          'n_item': n_item,\n",
    "          'n_transitions': n_transitions}\n",
    "\n",
    "lower_keys(params)\n",
    "\n",
    "energies,f_occupations,data_transitions,cooling_rate = \\\n",
    "    wrapper.run_one_params(**params)\n",
    "\n",
    "print_e(energies, f_occupations)"
   ]
  },
  {
   "cell_type": "code",
   "execution_count": 3,
   "metadata": {},
   "outputs": [],
   "source": [
    "n_levels,n_item,n_transitions,n_partners = \\\n",
    "    wrapper.config_basic('./', '12C16O_H2.dat', 2.73, True)"
   ]
  },
  {
   "cell_type": "code",
   "execution_count": 4,
   "metadata": {},
   "outputs": [
    {
     "name": "stdout",
     "output_type": "stream",
     "text": [
      "dict_keys([b'iup', b'ilow', b'Eup', b'freq', b'lam', b'Tex', b'tau', b'Tr', b'fup', b'flow', b'flux_K', b'flux_intflux_Jy', b'beta', b'Jnu', b'gup', b'glow', b'Aul', b'Bul', b'Blu'])\n"
     ]
    }
   ],
   "source": [
    "params = {'Tkin': 1e2,\n",
    "          'dv_CGS': 10e5,\n",
    "          'dens_X_CGS': 1e0,\n",
    "          'Ncol_X_CGS': 1e15,\n",
    "          'H2_density_CGS': 1e2,\n",
    "          'HI_density_CGS': 0.0,\n",
    "          'oH2_density_CGS': 0.0,\n",
    "          'pH2_densty_CGS': 0.0,\n",
    "          'HII_density_CGS': 0.0,\n",
    "          'Electron_density_CGS': 0.0,\n",
    "          'n_levels': n_levels,\n",
    "          'n_item': n_item,\n",
    "          'n_transitions': n_transitions}\n",
    "\n",
    "params = lower_keys(params)\n",
    "\n",
    "energies,f_occupations,data_transitions,cooling_rate = \\\n",
    "    wrapper.run_one_params(**params)\n",
    "d1 = cast_into_dic(column_info, data_transitions)\n",
    "print(d1.keys())\n",
    "\n",
    "params['H2_density_CGS'.lower()] = 1e4\n",
    "energies,f_occupations,data_transitions,cooling_rate = \\\n",
    "    wrapper.run_one_params(**params)\n",
    "d2 = cast_into_dic(column_info, data_transitions)\n",
    "\n",
    "params['H2_density_CGS'.lower()] = 1e5\n",
    "energies,f_occupations,data_transitions,cooling_rate = \\\n",
    "    wrapper.run_one_params(**params)\n",
    "d3 = cast_into_dic(column_info, data_transitions)\n",
    "\n",
    "params['H2_density_CGS'.lower()] = 1e6\n",
    "energies,f_occupations,data_transitions,cooling_rate = \\\n",
    "    wrapper.run_one_params(**params)\n",
    "d4 = cast_into_dic(column_info, data_transitions)"
   ]
  },
  {
   "cell_type": "code",
   "execution_count": 5,
   "metadata": {},
   "outputs": [
    {
     "data": {
      "image/png": "[encoded data removed]",
      "text/plain": [
       "<Figure size 720x504 with 1 Axes>"
      ]
     },
     "metadata": {
      "needs_background": "light"
     },
     "output_type": "display_data"
    }
   ],
   "source": [
    "figure(figsize=(10,7))\n",
    "plot(d1[b'Eup'], d1[b'Tex'], marker='o', label='n(H$_2$)=$10^2$ cm$^{-3}$')\n",
    "plot(d2[b'Eup'], d2[b'Tex'], marker='o', label='n(H$_2$)=$10^4$ cm$^{-3}$')\n",
    "plot(d3[b'Eup'], d3[b'Tex'], marker='o', label='n(H$_2$)=$10^5$ cm$^{-3}$')\n",
    "plot(d3[b'Eup'], d4[b'Tex'], marker='o', label='n(H$_2$)=$10^6$ cm$^{-3}$')\n",
    "ax = gca()\n",
    "ax.set_xlabel('E (K)')\n",
    "ax.set_ylabel(r'$T_{\\rm ex}$ (K)')\n",
    "ax.set_xscale('log')\n",
    "ax.set_yscale('symlog', linthreshy=10)\n",
    "_ = legend(fontsize=15, framealpha=0.2, loc='best')\n",
    "ax.grid(which='both')"
   ]
  },
  {
   "cell_type": "code",
   "execution_count": null,
   "metadata": {},
   "outputs": [],
   "source": []
  }
 ],
 "metadata": {
  "kernelspec": {
   "display_name": "Python 3",
   "language": "python",
   "name": "python3"
  },
  "language_info": {
   "codemirror_mode": {
    "name": "ipython",
    "version": 3
   },
   "file_extension": ".py",
   "mimetype": "text/x-python",
   "name": "python",
   "nbconvert_exporter": "python",
   "pygments_lexer": "ipython3",
   "version": "3.7.7"
  },
  "toc": {
   "base_numbering": 1,
   "nav_menu": {},
   "number_sections": true,
   "sideBar": false,
   "skip_h1_title": false,
   "title_cell": "Table of Contents",
   "title_sidebar": "Contents",
   "toc_cell": false,
   "toc_position": {},
   "toc_section_display": true,
   "toc_window_display": false
  }
 },
 "nbformat": 4,
 "nbformat_minor": 1
}
