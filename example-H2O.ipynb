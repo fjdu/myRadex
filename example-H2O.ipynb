{
 "cells": [
  {
   "cell_type": "markdown",
   "metadata": {},
   "source": [
    "This is an example showing how to calculate the critical densities of H2O."
   ]
  },
  {
   "cell_type": "code",
   "execution_count": 1,
   "metadata": {},
   "outputs": [],
   "source": [
    "%matplotlib inline\n",
    "\n",
    "import numpy as np\n",
    "import os\n",
    "import sys\n",
    "\n",
    "for std, __std__ in [\n",
    "    (sys.stdout, sys.__stdout__),\n",
    "    (sys.stderr, sys.__stderr__),\n",
    "]:\n",
    "    # By default Jupyter notebook displays the terminal output.\n",
    "    # This is for turning off this feature.\n",
    "    if getattr(std, \"_original_stdstream_copy\", None) is not None:\n",
    "        # redirect captured pipe back to original FD\n",
    "        os.dup2(std._original_stdstream_copy, __std__.fileno())\n",
    "        std._original_stdstream_copy = None\n",
    "\n",
    "def lower_keys(p):\n",
    "    return {k.lower(): p[k] for k in p}"
   ]
  },
  {
   "cell_type": "markdown",
   "metadata": {},
   "source": [
    "## Import the wrapper"
   ]
  },
  {
   "cell_type": "code",
   "execution_count": 2,
   "metadata": {},
   "outputs": [],
   "source": [
    "import wrapper_my_radex\n",
    "wrapper = wrapper_my_radex.myradex_wrapper\n",
    "about_info = wrapper.about.tobytes()\n",
    "column_info = wrapper.column_names.tobytes()"
   ]
  },
  {
   "cell_type": "code",
   "execution_count": 3,
   "metadata": {},
   "outputs": [
    {
     "name": "stdout",
     "output_type": "stream",
     "text": [
      "[(0, 'iup'), (1, 'ilow'), (2, 'Eup'), (3, 'freq'), (4, 'lam'), (5, 'Tex'), (6, 'tau'), (7, 'Tr'), (8, 'fup'), (9, 'flow'), (10, 'flux_K'), (11, 'flux_int'), (12, 'flux_Jy'), (13, 'beta'), (14, 'Jnu'), (15, 'gup'), (16, 'glow'), (17, 'Aul'), (18, 'Bul'), (19, 'Blu'), (20, 'n_crit'), (21, 'n_crit_old')]\n"
     ]
    }
   ],
   "source": [
    "column_names = [_.decode() for _ in wrapper.column_names.item().split()]\n",
    "print([_ for _ in enumerate(column_names)])"
   ]
  },
  {
   "cell_type": "markdown",
   "metadata": {},
   "source": [
    "## Configure the wrapper\n",
    "\n"
   ]
  },
  {
   "cell_type": "code",
   "execution_count": 4,
   "metadata": {},
   "outputs": [],
   "source": [
    "transition_dir = os.path.expanduser('~/_c/protoplanetary_disk/transitions/')"
   ]
  },
  {
   "cell_type": "code",
   "execution_count": 13,
   "metadata": {},
   "outputs": [],
   "source": [
    "n_levels, n_item, n_transitions, n_partners = \\\n",
    "    wrapper.config_basic(dir_transition_rates=transition_dir,\n",
    "                         filename_molecule='oh2o@rovib.dat',\n",
    "                         tbg=2.73, verbose=True,\n",
    "                         max_code_run_time=10, # in seconds\n",
    "                         max_evol_time=1e7, # in seconds\n",
    "                         atol=1e-30, rtol=1e-6, solve_method='Newton')"
   ]
  },
  {
   "cell_type": "code",
   "execution_count": 14,
   "metadata": {},
   "outputs": [
    {
     "name": "stdout",
     "output_type": "stream",
     "text": [
      "Number of energy levels 411\n",
      "Number of transitions 7597\n",
      "Number of collisional partners 2\n"
     ]
    }
   ],
   "source": [
    "print('Number of energy levels', n_levels)\n",
    "print('Number of transitions', n_transitions)\n",
    "print('Number of collisional partners', n_partners)"
   ]
  },
  {
   "cell_type": "markdown",
   "metadata": {},
   "source": [
    "## Calculate the critical densities\n",
    "\n",
    "The meaning of the columns of the array `data_transitions` are included in `column_names`."
   ]
  },
  {
   "cell_type": "code",
   "execution_count": 15,
   "metadata": {},
   "outputs": [
    {
     "name": "stdout",
     "output_type": "stream",
     "text": [
      "0\n"
     ]
    }
   ],
   "source": [
    "params = {'Tkin': 300.0,\n",
    "          'dv_CGS': 1e5,\n",
    "          'dens_X_CGS': 1e5,\n",
    "          'Ncol_X_CGS': 1e17,\n",
    "          'H2_density_CGS': 1e9,\n",
    "          'HI_density_CGS': 0.0,\n",
    "          'oH2_density_CGS': 0.0,\n",
    "          'pH2_densty_CGS': 0.0,\n",
    "          'HII_density_CGS': 0.0,\n",
    "          'Electron_density_CGS': 0.0,\n",
    "          'n_levels': n_levels,\n",
    "          'n_item': n_item,\n",
    "          'n_transitions': n_transitions,\n",
    "          'donotsolve': False,\n",
    "          'collisioPartnerCrit': 1,\n",
    "         }\n",
    "\n",
    "# The keywords to the wrapper function have to be in lower case,\n",
    "# so I have to lower the keys of params.\n",
    "# Of course you can use lower case letters from the beginning.\n",
    "\n",
    "params = lower_keys(params)\n",
    "\n",
    "energies,f_occupations,data_transitions,cooling_rate = wrapper.run_one_params(**params)\n",
    "print(wrapper.flag_good)"
   ]
  },
  {
   "cell_type": "code",
   "execution_count": 8,
   "metadata": {},
   "outputs": [
    {
     "name": "stdout",
     "output_type": "stream",
     "text": [
      "  40   19  1805.90  14.95  3.000e+02  1.914e+07  9.919e+11\n",
      "  46   24  2030.99  14.98  3.000e+02  3.469e+05  8.149e+08\n",
      "  52   30  2288.65  14.91  3.000e+02  5.571e+02  1.480e+06\n",
      "  65   37  2605.03  14.54  3.000e+02  2.707e+08  9.370e+11\n",
      "  75   43  2876.11  14.88  3.000e+02  5.251e+06  9.491e+09\n",
      "  91   50  3232.76  14.51  3.000e+02  2.032e+09  1.652e+10\n",
      " 106   63  3543.52  14.84  3.000e+02  8.185e-01  1.141e+08\n",
      " 108   65  3589.98  14.60  3.000e+02  2.036e+03  3.308e+11\n",
      " 120   78  3867.54  14.74  3.000e+02  1.809e+02  7.951e+10\n",
      " 126   83  3950.91  14.87  3.000e+02  5.846e+07  1.269e+11\n",
      " 127   83  3965.86  14.64  3.000e+02  3.506e+04  9.322e+07\n",
      " 132   90  4178.82  14.73  3.000e+02  5.858e+00  1.148e+09\n",
      " 136   91  4198.70  14.89  3.000e+02  1.135e+10  2.177e+13\n",
      " 138   91  4212.65  14.68  3.000e+02  4.847e+07  1.162e+11\n",
      " 146  104  4438.39  14.92  3.000e+02  1.181e+10  3.117e+13\n",
      " 173  121  4867.76  14.67  3.001e+02  7.786e+02  2.603e+11\n",
      " 192  135  5168.69  14.78  3.000e+02  2.996e+09  4.424e+12\n",
      " 196  139  5221.45  14.78  3.000e+02  1.413e+05  2.869e+08\n",
      " 197  139  5236.48  14.55  3.000e+02  2.034e+08  4.561e+11\n",
      " 201  140  5265.78  14.55  3.000e+02  4.441e+03  1.383e+12\n",
      " 211  144  5398.88  14.71  3.000e+02  1.298e+04  1.967e+07\n",
      " 225  152  5515.03  14.52  3.000e+02  8.646e+04  1.362e+08\n",
      " 238  160  5665.28  14.85  3.000e+02  7.546e+04  2.994e+12\n",
      " 239  160  5668.53  14.80  3.000e+02  1.069e+05  1.453e+13\n",
      " 240  161  5669.52  14.84  3.000e+02  1.719e+04  5.090e+12\n",
      " 243  162  5692.75  14.98  2.979e+02  2.722e+05  1.623e+09\n",
      " 245  162  5718.60  14.59  3.222e+02  4.695e+06  4.344e+10\n",
      " 247  168  5746.84  14.85  2.995e+02  9.622e+06  1.140e+10\n",
      " 263  176  5850.24  14.85  2.985e+02  5.780e+06  7.377e+10\n",
      " 264  173  5853.95  14.59  2.997e+02  6.201e+05  1.386e+13\n",
      " 270  178  5932.48  14.66  3.000e+02  4.452e+09  9.417e+12\n",
      " 273  181  5976.58  14.81  3.009e+02  4.468e+05  1.889e+11\n",
      " 273  182  5976.58  14.88  3.009e+02  2.617e+05  2.430e+09\n",
      " 274  181  5993.18  14.57  2.976e+02  2.123e+05  2.120e+09\n",
      " 274  182  5993.18  14.63  2.976e+02  7.910e+06  1.097e+11\n",
      " 288  190  6096.55  14.92  3.000e+02  2.094e+08  1.351e+13\n",
      " 289  188  6101.76  14.79  3.001e+02  2.055e+07  4.320e+10\n",
      " 291  189  6106.60  14.73  2.999e+02  2.998e+05  3.842e+09\n",
      " 295  192  6137.78  14.85  3.000e+02  8.194e+04  1.050e+08\n",
      " 298  194  6173.44  14.52  2.964e+02  2.522e+05  5.077e+09\n",
      " 312  206  6322.65  14.89  2.963e+02  1.063e+06  7.500e+09\n",
      " 315  206  6340.75  14.61  3.001e+02  2.435e+07  1.027e+10\n",
      " 316  206  6342.16  14.59  3.015e+02  3.463e+07  6.250e+11\n",
      " 335  225  6490.17  14.75  3.000e+02  4.925e+07  9.774e+10\n",
      " 339  228  6551.14  14.53  3.008e+02  2.433e+06  4.284e+10\n",
      " 339  232  6551.14  14.84  3.018e+02  8.202e+05  1.016e+10\n",
      " 345  234  6578.72  14.77  3.063e+02  1.733e+04  1.384e+10\n",
      " 346  234  6588.12  14.62  3.052e+02  3.084e+04  1.821e+08\n",
      " 350  241  6636.77  14.87  3.000e+02  3.031e+05  6.867e+08\n",
      " 355  244  6681.67  14.78  5.428e+02  2.448e+06  9.357e+09\n",
      " 357  247  6706.78  14.99  3.013e+02  6.412e-03  2.017e+07\n",
      " 359  248  6718.70  14.88  2.977e+02  2.828e+04  8.590e+11\n",
      " 361  250  6756.25  14.70  3.076e+02  2.887e+07  2.393e+11\n",
      " 369  264  6834.74  14.67  1.372e+02  4.019e+04  9.176e+07\n",
      " 371  266  6848.36  14.64  3.207e+02  1.708e+05  1.258e+09\n",
      " 375  268  6881.18  14.56  3.036e+02  1.404e+05  4.132e+08\n",
      " 379  270  6911.62  14.69  3.001e+02  1.119e+08  1.992e+11\n",
      " 392  279  6995.04  14.85  2.939e+02  7.811e+05  1.774e+10\n",
      " 393  278  7009.68  14.55  3.004e+02  2.828e+05  3.939e+08\n",
      " 395  283  7034.87  14.54  3.003e+02  4.899e+05  1.534e+13\n",
      " 401  289  7087.91  14.59  2.782e+02  2.201e+01  3.775e+11\n",
      " 404  293  7120.50  14.52  2.784e+02  3.967e+04  4.116e+08\n",
      " 404  294  7120.50  14.58  2.779e+02  6.398e+05  8.327e+09\n",
      " 406  297  7146.46  14.68  3.002e+02  7.172e-01  2.633e+11\n",
      " 407  297  7147.10  14.67  3.707e+02  2.015e+07  4.339e+14\n"
     ]
    }
   ],
   "source": [
    "for i in range(n_transitions):\n",
    "    lam_micron = 2.99792458e8*1e6/data_transitions[3,i]\n",
    "    if 14.5 <= lam_micron <= 15.0:\n",
    "        print('{:4d}'.format(int(data_transitions[0,i])),\n",
    "              '{:4d}'.format(int(data_transitions[1,i])),\n",
    "              '{:8.2f}'.format(data_transitions[2,i]),\n",
    "              '{:6.2f}'.format(lam_micron),\n",
    "              '{:10.3e}'.format(data_transitions[5,i]),\n",
    "              '{:10.3e}'.format(data_transitions[19,i]),\n",
    "              '{:10.3e}'.format(data_transitions[20,i]))"
   ]
  },
  {
   "cell_type": "code",
   "execution_count": 12,
   "metadata": {
    "scrolled": false
   },
   "outputs": [
    {
     "name": "stdout",
     "output_type": "stream",
     "text": [
      "  40   19  1805.90  14.95  1.791e+02  1.912e+07  9.906e+11\n",
      "  46   24  2030.99  14.98  1.452e+02  3.469e+05  8.149e+08\n",
      "  52   30  2288.65  14.91  1.128e+02  5.571e+02  1.480e+06\n",
      "  65   37  2605.03  14.54  1.003e+02  2.738e+08  9.475e+11\n",
      "  75   43  2876.11  14.88  9.824e+01  5.252e+06  9.491e+09\n",
      "  91   50  3232.76  14.51  1.352e+02  2.078e+09  1.689e+10\n",
      " 106   63  3543.52  14.84  1.697e+02  8.185e-01  1.141e+08\n",
      " 108   65  3589.98  14.60  1.920e+02  2.036e+03  3.308e+11\n",
      " 120   78  3867.54  14.74  3.516e+02  1.809e+02  7.951e+10\n",
      " 126   83  3950.91  14.87  1.653e+02  5.846e+07  1.270e+11\n",
      " 127   83  3965.86  14.64  1.366e+02  3.506e+04  9.322e+07\n",
      " 132   90  4178.82  14.73  4.209e+02  5.858e+00  1.148e+09\n",
      " 136   91  4198.70  14.89  1.109e+02  1.140e+10  2.187e+13\n",
      " 138   91  4212.65  14.68  9.571e+01  4.847e+07  1.162e+11\n",
      " 146  104  4438.39  14.92  1.083e+02  1.184e+10  3.124e+13\n",
      " 173  121  4867.76  14.67  4.073e+02  7.786e+02  2.603e+11\n",
      " 192  135  5168.69  14.78  1.696e+02  2.996e+09  4.424e+12\n",
      " 196  139  5221.45  14.78  1.433e+02  1.413e+05  2.869e+08\n",
      " 197  139  5236.48  14.55  1.573e+02  2.034e+08  4.561e+11\n",
      " 201  140  5265.78  14.55  3.618e+02  4.441e+03  1.383e+12\n",
      " 211  144  5398.88  14.71  1.179e+02  1.298e+04  1.967e+07\n",
      " 225  152  5515.03  14.52  1.379e+02  8.646e+04  1.362e+08\n",
      " 238  160  5665.28  14.85  1.686e+02  7.546e+04  2.994e+12\n",
      " 239  160  5668.53  14.80  2.439e+02  1.069e+05  1.453e+13\n",
      " 240  161  5669.52  14.84  3.760e+02  1.719e+04  5.090e+12\n",
      " 243  162  5692.75  14.98  1.746e+02  2.722e+05  1.623e+09\n",
      " 245  162  5718.60  14.59  1.816e+02  4.695e+06  4.344e+10\n",
      " 247  168  5746.84  14.85  1.284e+02  9.622e+06  1.140e+10\n",
      " 263  176  5850.24  14.85  1.735e+02  5.780e+06  7.377e+10\n",
      " 264  173  5853.95  14.59  6.923e+02  6.201e+05  1.386e+13\n",
      " 270  178  5932.48  14.66  1.148e+02  4.452e+09  9.417e+12\n",
      " 273  181  5976.58  14.81  2.095e+02  4.468e+05  1.889e+11\n",
      " 273  182  5976.58  14.88  2.219e+02  2.617e+05  2.430e+09\n",
      " 274  181  5993.18  14.57  1.627e+02  2.123e+05  2.120e+09\n",
      " 274  182  5993.18  14.63  1.698e+02  7.910e+06  1.097e+11\n",
      " 288  190  6096.55  14.92  1.453e+02  2.094e+08  1.351e+13\n",
      " 289  188  6101.76  14.79  1.268e+02  2.055e+07  4.320e+10\n",
      " 291  189  6106.60  14.73  1.526e+02  2.998e+05  3.842e+09\n",
      " 295  192  6137.78  14.85  1.116e+02  8.194e+04  1.050e+08\n",
      " 298  194  6173.44  14.52  1.666e+02  2.522e+05  5.077e+09\n",
      " 312  206  6322.65  14.89  2.034e+02  1.063e+06  7.500e+09\n",
      " 315  206  6340.75  14.61  2.278e+02  2.435e+07  1.027e+10\n",
      " 316  206  6342.16  14.59  1.649e+02  3.463e+07  6.250e+11\n",
      " 335  225  6490.17  14.75  1.341e+02  4.925e+07  9.774e+10\n",
      " 339  228  6551.14  14.53  1.636e+02  2.433e+06  4.284e+10\n",
      " 339  232  6551.14  14.84  1.376e+02  8.202e+05  1.016e+10\n",
      " 345  234  6578.72  14.77  1.907e+02  1.733e+04  1.384e+10\n",
      " 346  234  6588.12  14.62  2.110e+02  3.084e+04  1.821e+08\n",
      " 350  241  6636.77  14.87  1.412e+02  3.031e+05  6.867e+08\n",
      " 355  244  6681.67  14.78  2.377e+02  2.448e+06  9.357e+09\n",
      " 357  247  6706.78  14.99  6.546e+03  6.412e-03  2.017e+07\n",
      " 359  248  6718.70  14.88 -6.030e+02  2.828e+04  8.590e+11\n",
      " 361  250  6756.25  14.70  1.916e+02  2.887e+07  2.393e+11\n",
      " 369  264  6834.74  14.67  2.349e+02  4.019e+04  9.176e+07\n",
      " 371  266  6848.36  14.64  2.269e+02  1.708e+05  1.258e+09\n",
      " 375  268  6881.18  14.56  1.480e+02  1.404e+05  4.132e+08\n",
      " 379  270  6911.62  14.69  1.335e+02  1.119e+08  1.992e+11\n",
      " 392  279  6995.04  14.85  1.558e+02  7.811e+05  1.774e+10\n",
      " 393  278  7009.68  14.55  1.202e+02  2.828e+05  3.939e+08\n",
      " 395  283  7034.87  14.54  1.527e+02  4.899e+05  1.534e+13\n",
      " 401  289  7087.91  14.59 -2.940e+02  2.201e+01  3.775e+11\n",
      " 404  293  7120.50  14.52  1.512e+02  3.967e+04  4.116e+08\n",
      " 404  294  7120.50  14.58  1.260e+02  6.398e+05  8.327e+09\n",
      " 406  297  7146.46  14.68  9.848e+01  7.172e-01  2.633e+11\n",
      " 407  297  7147.10  14.67 -1.859e+03  2.015e+07  4.339e+14\n"
     ]
    }
   ],
   "source": [
    "for i in range(n_transitions):\n",
    "    lam_micron = 2.99792458e8*1e6/data_transitions[3,i]\n",
    "    if 14.5 <= lam_micron <= 15.0:\n",
    "        print('{:4d}'.format(int(data_transitions[0,i])),\n",
    "              '{:4d}'.format(int(data_transitions[1,i])),\n",
    "              '{:8.2f}'.format(data_transitions[2,i]),\n",
    "              '{:6.2f}'.format(lam_micron),\n",
    "              '{:10.3e}'.format(data_transitions[5,i]),\n",
    "              '{:10.3e}'.format(data_transitions[19,i]),\n",
    "              '{:10.3e}'.format(data_transitions[20,i]))"
   ]
  },
  {
   "cell_type": "code",
   "execution_count": null,
   "metadata": {},
   "outputs": [],
   "source": []
  }
 ],
 "metadata": {
  "hide_input": false,
  "kernelspec": {
   "display_name": "Python 3 (ipykernel)",
   "language": "python",
   "name": "python3"
  },
  "language_info": {
   "codemirror_mode": {
    "name": "ipython",
    "version": 3
   },
   "file_extension": ".py",
   "mimetype": "text/x-python",
   "name": "python",
   "nbconvert_exporter": "python",
   "pygments_lexer": "ipython3",
   "version": "3.9.15"
  },
  "toc": {
   "base_numbering": 1,
   "nav_menu": {
    "height": "198px",
    "width": "200px"
   },
   "number_sections": true,
   "sideBar": false,
   "skip_h1_title": false,
   "title_cell": "Table of Contents",
   "title_sidebar": "Contents",
   "toc_cell": false,
   "toc_position": {},
   "toc_section_display": true,
   "toc_window_display": false
  }
 },
 "nbformat": 4,
 "nbformat_minor": 1
}
