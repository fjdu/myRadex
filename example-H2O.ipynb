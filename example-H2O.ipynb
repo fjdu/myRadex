{
 "cells": [
  {
   "cell_type": "markdown",
   "metadata": {},
   "source": [
    "This is an example showing how to calculate the critical densities of H2O."
   ]
  },
  {
   "cell_type": "code",
   "execution_count": 1,
   "metadata": {},
   "outputs": [],
   "source": [
    "%matplotlib inline\n",
    "\n",
    "import numpy as np\n",
    "import os\n",
    "import sys\n",
    "\n",
    "for std, __std__ in [\n",
    "    (sys.stdout, sys.__stdout__),\n",
    "    (sys.stderr, sys.__stderr__),\n",
    "]:\n",
    "    # By default Jupyter notebook displays the terminal output.\n",
    "    # This is for turning of this feature.\n",
    "    if getattr(std, \"_original_stdstream_copy\", None) is not None:\n",
    "        # redirect captured pipe back to original FD\n",
    "        os.dup2(std._original_stdstream_copy, __std__.fileno())\n",
    "        std._original_stdstream_copy = None\n",
    "\n",
    "def lower_keys(p):\n",
    "    return {k.lower(): p[k] for k in p}"
   ]
  },
  {
   "cell_type": "markdown",
   "metadata": {},
   "source": [
    "## Import the wrapper"
   ]
  },
  {
   "cell_type": "code",
   "execution_count": 2,
   "metadata": {},
   "outputs": [],
   "source": [
    "import wrapper_my_radex\n",
    "wrapper = wrapper_my_radex.myradex_wrapper\n",
    "about_info = wrapper.about.tobytes()\n",
    "column_info = wrapper.column_names.tobytes()"
   ]
  },
  {
   "cell_type": "code",
   "execution_count": 3,
   "metadata": {},
   "outputs": [
    {
     "name": "stdout",
     "output_type": "stream",
     "text": [
      "[(0, 'iup'), (1, 'ilow'), (2, 'Eup'), (3, 'freq'), (4, 'lam'), (5, 'Tex'), (6, 'tau'), (7, 'Tr'), (8, 'fup'), (9, 'flow'), (10, 'flux_K'), (11, 'flux_int'), (12, 'flux_Jy'), (13, 'beta'), (14, 'Jnu'), (15, 'gup'), (16, 'glow'), (17, 'Aul'), (18, 'Bul'), (19, 'Blu'), (20, 'n_crit'), (21, 'n_crit_old')]\n"
     ]
    }
   ],
   "source": [
    "column_names = [_.decode() for _ in wrapper.column_names.item().split()]\n",
    "print([_ for _ in enumerate(column_names)])"
   ]
  },
  {
   "cell_type": "markdown",
   "metadata": {},
   "source": [
    "## Configure the wrapper\n",
    "\n"
   ]
  },
  {
   "cell_type": "code",
   "execution_count": 4,
   "metadata": {},
   "outputs": [],
   "source": [
    "transition_dir = os.path.expanduser('~/_c/protoplanetary_disk/transitions/')"
   ]
  },
  {
   "cell_type": "code",
   "execution_count": 5,
   "metadata": {},
   "outputs": [],
   "source": [
    "n_levels, n_item, n_transitions, n_partners = \\\n",
    "    wrapper.config_basic(dir_transition_rates=transition_dir,\n",
    "                         filename_molecule='oh2o@rovib.dat',\n",
    "                         tbg=2.73, verbose=True)"
   ]
  },
  {
   "cell_type": "code",
   "execution_count": 6,
   "metadata": {},
   "outputs": [
    {
     "name": "stdout",
     "output_type": "stream",
     "text": [
      "Number of energy levels 411\n",
      "Number of transitions 7597\n",
      "Number of collisional partners 2\n"
     ]
    }
   ],
   "source": [
    "print('Number of energy levels', n_levels)\n",
    "print('Number of transitions', n_transitions)\n",
    "print('Number of collisional partners', n_partners)"
   ]
  },
  {
   "cell_type": "markdown",
   "metadata": {},
   "source": [
    "## Calculate the critical densities\n",
    "\n",
    "**You must run `run_one_params` once before calling `calc_critical_density`** to feed in the physical parameters."
   ]
  },
  {
   "cell_type": "code",
   "execution_count": 10,
   "metadata": {},
   "outputs": [],
   "source": [
    "params = {'Tkin': 300.0,\n",
    "          'dv_CGS': 1e5,\n",
    "          'dens_X_CGS': 1e5,\n",
    "          'Ncol_X_CGS': 1e18,\n",
    "          'H2_density_CGS': 1e9,\n",
    "          'HI_density_CGS': 0.0,\n",
    "          'oH2_density_CGS': 0.0,\n",
    "          'pH2_densty_CGS': 0.0,\n",
    "          'HII_density_CGS': 0.0,\n",
    "          'Electron_density_CGS': 0.0,\n",
    "          'n_levels': n_levels,\n",
    "          'n_item': n_item,\n",
    "          'n_transitions': n_transitions,\n",
    "          'donotsolve': False,\n",
    "          'collisioPartnerCrit': 2\n",
    "         }\n",
    "\n",
    "\"\"\"The keywords to the wrapper function have to be in\n",
    "lower case, so I have to lower the keys of params.\n",
    "Of course you can use lower case letters from the beginning.\"\"\"\n",
    "\n",
    "params = lower_keys(params)\n",
    "\n",
    "energies,f_occupations,data_transitions,cooling_rate = wrapper.run_one_params(**params)"
   ]
  },
  {
   "cell_type": "code",
   "execution_count": 11,
   "metadata": {
    "scrolled": false
   },
   "outputs": [
    {
     "name": "stdout",
     "output_type": "stream",
     "text": [
      "  40   19  1805.90  14.95  2.577e+02  1.238e+04  4.251e+08\n",
      "  46   24  2030.99  14.98  2.368e+02  2.860e+02  4.883e+08\n",
      "  52   30  2288.65  14.91  2.096e+02  4.990e-01  4.974e+08\n",
      "  65   37  2605.03  14.54  1.728e+02  2.145e+05  4.712e+08\n",
      "  75   43  2876.11  14.88  1.422e+02  3.410e+03  4.976e+08\n",
      "  91   50  3232.76  14.51  1.395e+02  1.636e+06  4.652e+08\n",
      " 106   63  3543.52  14.84  9.836e+01  2.699e-04  2.767e+07\n",
      " 108   65  3589.98  14.60  1.069e+02  1.284e+00  4.184e+09\n",
      " 120   78  3867.54  14.74  1.419e+02  2.871e-01  2.323e+11\n",
      " 126   83  3950.91  14.87  1.313e+02  4.295e+04  4.987e+08\n",
      " 127   83  3965.86  14.64  1.096e+02  2.516e+01  5.236e+08\n",
      " 132   90  4178.82  14.73  1.929e+02  4.555e-03  1.318e+14\n",
      " 136   91  4198.70  14.89  1.123e+02  8.009e+06  5.066e+08\n",
      " 138   91  4212.65  14.68  9.544e+01  3.934e+04  5.230e+08\n",
      " 146  104  4438.39  14.92  1.032e+02  8.259e+06  4.815e+08\n",
      " 173  121  4867.76  14.67  2.773e+02  5.378e-01  1.334e+12\n",
      " 192  135  5168.69  14.78  2.060e+02  2.111e+06  5.309e+08\n",
      " 196  139  5221.45  14.78  1.269e+02  1.100e+02  5.069e+08\n",
      " 197  139  5236.48  14.55  1.464e+02  1.523e+05  5.473e+08\n",
      " 201  140  5265.78  14.55  3.840e+02  2.829e+00  1.042e+12\n",
      " 211  144  5398.88  14.71  1.566e+02  1.019e+01  2.511e+08\n",
      " 225  152  5515.03  14.52  1.738e+02  6.517e+01  5.497e+08\n",
      " 238  160  5665.28  14.85  2.013e+02  2.160e+01  5.981e+13\n",
      " 239  160  5668.53  14.80  2.999e+02  7.914e+01  1.585e+11\n",
      " 240  161  5669.52  14.84  4.387e+02  1.156e+01  1.188e+12\n",
      " 243  162  5692.75  14.98  2.497e+02  1.550e+02  7.889e+04\n",
      " 245  162  5718.60  14.59  2.519e+02  2.766e+03  3.038e+06\n",
      " 247  168  5746.84  14.85  1.443e+02  5.227e+03  3.455e+08\n",
      " 263  176  5850.24  14.85  2.388e+02  2.442e+03  3.972e+06\n",
      " 264  173  5853.95  14.59  3.151e+02  3.885e+02  1.665e+10\n",
      " 270  178  5932.48  14.66  1.405e+02  3.174e+06  3.424e+08\n",
      " 273  181  5976.58  14.81  2.293e+02  2.165e+02  4.674e+05\n",
      " 273  182  5976.58  14.88  2.428e+02  1.268e+02  1.238e+05\n",
      " 274  181  5993.18  14.57  2.072e+02  1.187e+02  1.019e+05\n",
      " 274  182  5993.18  14.63  2.179e+02  4.423e+03  5.766e+06\n",
      " 288  190  6096.55  14.92  1.440e+02  8.149e+04  9.790e+10\n",
      " 289  188  6101.76  14.79  1.457e+02  1.969e+04  3.429e+08\n",
      " 291  189  6106.60  14.73  1.775e+02  1.703e+02  1.718e+05\n",
      " 295  192  6137.78  14.85  1.270e+02  7.215e+01  2.845e+08\n",
      " 298  194  6173.44  14.52  2.071e+02  2.014e+02  2.525e+05\n",
      " 312  206  6322.65  14.89  2.188e+02  6.680e+02  2.667e+05\n",
      " 315  206  6340.75  14.61  2.593e+02  1.492e+04  1.341e+08\n",
      " 316  206  6342.16  14.59  1.815e+02  1.246e+04  3.846e+07\n",
      " 335  225  6490.17  14.75  1.319e+02  4.755e+04  3.477e+08\n",
      " 339  228  6551.14  14.53  1.761e+02  1.003e+03  2.571e+06\n",
      " 339  232  6551.14  14.84  1.488e+02  3.383e+02  4.276e+05\n",
      " 345  234  6578.72  14.77  2.086e+02  8.865e+00  1.192e+07\n",
      " 346  234  6588.12  14.62  2.564e+02  2.079e+01  3.143e+08\n",
      " 350  241  6636.77  14.87  1.373e+02  2.475e+02  5.066e+08\n",
      " 355  244  6681.67  14.78  2.492e+02  1.415e+03  7.081e+05\n",
      " 357  247  6706.78  14.99  4.182e+02  3.063e-06  3.595e+06\n",
      " 359  248  6718.70  14.88  1.150e+03  1.735e+01  5.245e+10\n",
      " 361  250  6756.25  14.70  2.081e+02  1.928e+04  6.083e+06\n",
      " 369  264  6834.74  14.67  2.446e+02  1.959e+01  3.586e+03\n",
      " 371  266  6848.36  14.64  1.876e+02  1.086e+02  7.006e+08\n",
      " 375  268  6881.18  14.56  1.559e+02  1.056e+02  6.542e+06\n",
      " 379  270  6911.62  14.69  1.249e+02  9.577e+04  3.557e+08\n",
      " 392  279  6995.04  14.85  1.589e+02  2.873e+02  1.719e+06\n",
      " 393  278  7009.68  14.55  1.128e+02  2.397e+02  3.562e+08\n",
      " 395  283  7034.87  14.54  1.458e+02  1.800e+02  1.080e+10\n",
      " 401  289  7087.91  14.59 -2.467e+03  1.938e-02  1.880e+13\n",
      " 404  293  7120.50  14.52  1.597e+02  2.475e+01  1.868e+04\n",
      " 404  294  7120.50  14.58  1.330e+02  3.991e+02  4.771e+05\n",
      " 406  297  7146.46  14.68  9.231e+01  4.675e-04  7.046e+14\n",
      " 407  297  7147.10  14.67  2.783e+03  1.476e+04  5.621e+10\n"
     ]
    }
   ],
   "source": [
    "for i in range(n_transitions):\n",
    "    lam_micron = 2.99792458e8*1e6/data_transitions[3,i]\n",
    "    if 14.5 <= lam_micron <= 15.0:\n",
    "        print('{:4d}'.format(int(data_transitions[0,i])),\n",
    "              '{:4d}'.format(int(data_transitions[1,i])),\n",
    "              '{:8.2f}'.format(data_transitions[2,i]),\n",
    "              '{:6.2f}'.format(lam_micron),\n",
    "              '{:10.3e}'.format(data_transitions[5,i]),\n",
    "              '{:10.3e}'.format(data_transitions[19,i]),\n",
    "              '{:10.3e}'.format(data_transitions[20,i]))"
   ]
  },
  {
   "cell_type": "code",
   "execution_count": null,
   "metadata": {},
   "outputs": [],
   "source": []
  }
 ],
 "metadata": {
  "hide_input": false,
  "kernelspec": {
   "display_name": "Python 3 (ipykernel)",
   "language": "python",
   "name": "python3"
  },
  "language_info": {
   "codemirror_mode": {
    "name": "ipython",
    "version": 3
   },
   "file_extension": ".py",
   "mimetype": "text/x-python",
   "name": "python",
   "nbconvert_exporter": "python",
   "pygments_lexer": "ipython3",
   "version": "3.9.15"
  },
  "toc": {
   "base_numbering": 1,
   "nav_menu": {
    "height": "198px",
    "width": "200px"
   },
   "number_sections": true,
   "sideBar": false,
   "skip_h1_title": false,
   "title_cell": "Table of Contents",
   "title_sidebar": "Contents",
   "toc_cell": false,
   "toc_position": {},
   "toc_section_display": true,
   "toc_window_display": false
  }
 },
 "nbformat": 4,
 "nbformat_minor": 1
}
