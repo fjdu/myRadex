{
 "cells": [
  {
   "cell_type": "markdown",
   "metadata": {},
   "source": [
    "# Calculate the critical densities of H2O"
   ]
  },
  {
   "cell_type": "code",
   "execution_count": 1,
   "metadata": {},
   "outputs": [],
   "source": [
    "%matplotlib inline\n",
    "\n",
    "def lower_keys(p):\n",
    "    return {k.lower(): p[k] for k in p}\n",
    "\n",
    "import os"
   ]
  },
  {
   "cell_type": "markdown",
   "metadata": {},
   "source": [
    "# Start using the wrapper"
   ]
  },
  {
   "cell_type": "markdown",
   "metadata": {},
   "source": [
    "## Import the wrapper"
   ]
  },
  {
   "cell_type": "code",
   "execution_count": 2,
   "metadata": {},
   "outputs": [],
   "source": [
    "import wrapper_my_radex\n",
    "wrapper = wrapper_my_radex.myradex_wrapper\n",
    "about_info = wrapper.about.tobytes()\n",
    "column_info = wrapper.column_names.tobytes()"
   ]
  },
  {
   "cell_type": "markdown",
   "metadata": {},
   "source": [
    "## Do the statistical equilibrium calculation"
   ]
  },
  {
   "cell_type": "markdown",
   "metadata": {},
   "source": [
    "### Calculate the critical densities\n",
    "\n",
    "The `config_basic` function accepts two optional inputs:\n",
    "`recalculatefreqwitheupelow` and `ilevel_subtract_one`.\n",
    "By default they are both set to False.\n",
    "- `recalculatefreqwitheupelow`: If True, the code will recalculate the transition frequencies based on the energy differences, otherwise it will simply adopt the values in the input data file.\n",
    "- `ilevel_subtract_one`: If True, the level numbers in the output will be subtracted by 1, otherwise it will not be the same as in the input data file.\n",
    "\n",
    "**You must run `run_one_params` once before calling `calc_critical_density`** to feed in the physical parameters."
   ]
  },
  {
   "cell_type": "code",
   "execution_count": 3,
   "metadata": {},
   "outputs": [
    {
     "name": "stdout",
     "output_type": "stream",
     "text": [
      "Column names of the output: iup ilow Eup freq lam Tex tau Tr fup flow flux_K flux_int flux_Jy beta Jnu gup glow Aul Bul Blu n_crit n_crit_old               \n",
      " Number of energy levels:         411\n",
      " Number of radiative transitions:        7597\n",
      " Number of collisional partners:           2\n",
      " Name of collisional partner:           1 H2          \n",
      " Number of collisional transitions:           1       84255\n",
      " Number of temperatures:           1          11\n",
      " Name of collisional partner:           2 e           \n",
      " Number of collisional transitions:           2       84255\n",
      " Number of temperatures:           2          11\n",
      "Number of levels:   411\n",
      "Molecule name: H2O(ortho)                      \n",
      "Number of levels:        411\n",
      "Number of columns:         21\n",
      "Number of transitions:       7597\n"
     ]
    }
   ],
   "source": [
    "n_levels, n_item, n_transitions, n_partners = \\\n",
    "    wrapper.config_basic(os.path.expanduser('~/_c/protoplanetary_disk/transitions/'),\n",
    "                         'oh2o@rovib.dat', 2.73, True)"
   ]
  },
  {
   "cell_type": "code",
   "execution_count": 4,
   "metadata": {},
   "outputs": [
    {
     "name": "stdout",
     "output_type": "stream",
     "text": [
      "!  1.0000E+09 =      H2\n",
      "!  1.0000E+02 =       e\n",
      "Premature finish: t =  1.62E+03\n",
      "\n"
     ]
    },
    {
     "name": "stderr",
     "output_type": "stream",
     "text": [
      "!  1.0000E+09 =      H2\n",
      "!  1.0000E+02 =       e\n"
     ]
    }
   ],
   "source": [
    "params = {'Tkin': 300.0,\n",
    "          'dv_CGS': 1e5,\n",
    "          'dens_X_CGS': 1e5,\n",
    "          'Ncol_X_CGS': 1e18,\n",
    "          'H2_density_CGS': 1e9,\n",
    "          'HI_density_CGS': 1e2,\n",
    "          'oH2_density_CGS': 0.0,\n",
    "          'pH2_densty_CGS': 0.0,\n",
    "          'HII_density_CGS': 0.0,\n",
    "          'Electron_density_CGS': 1e2,\n",
    "          'n_levels': n_levels,\n",
    "          'n_item': n_item,\n",
    "          'n_transitions': n_transitions,\n",
    "          'donotsolve': False,\n",
    "         }\n",
    "\n",
    "\"\"\"The keywords to the wrapper function have to be in\n",
    "lower case, so I have to lower the keys of params.\n",
    "Of course you can use lower case letters from the beginning.\"\"\"\n",
    "\n",
    "params = lower_keys(params)\n",
    "\n",
    "energies,f_occupations,data_transitions,cooling_rate = wrapper.run_one_params(**params)"
   ]
  },
  {
   "cell_type": "code",
   "execution_count": 5,
   "metadata": {
    "scrolled": false
   },
   "outputs": [
    {
     "name": "stdout",
     "output_type": "stream",
     "text": [
      "40 19 1805.90 14.96 1.663e+07 8.617e+11\n",
      "46 24 2030.99 14.99 3.465e+05 8.139e+08\n",
      "52 30 2288.65 14.92 5.571e+02 1.480e+06\n",
      "65 37 2605.03 14.55 2.425e+08 8.393e+11\n",
      "75 43 2876.11 14.89 5.244e+06 9.478e+09\n",
      "91 50 3232.76 14.52 1.779e+09 1.446e+10\n",
      "106 63 3543.52 14.85 8.185e-01 1.141e+08\n",
      "108 65 3589.98 14.61 2.036e+03 3.308e+11\n",
      "120 78 3867.54 14.75 1.809e+02 7.951e+10\n",
      "126 83 3950.91 14.88 5.846e+07 1.270e+11\n",
      "127 83 3965.86 14.65 3.506e+04 9.322e+07\n",
      "132 90 4178.82 14.74 5.858e+00 1.148e+09\n",
      "136 91 4198.70 14.90 1.139e+10 2.185e+13\n",
      "138 91 4212.65 14.69 4.847e+07 1.162e+11\n",
      "146 104 4438.39 14.93 1.183e+10 3.123e+13\n",
      "173 121 4867.76 14.68 7.786e+02 2.603e+11\n",
      "192 135 5168.69 14.79 2.996e+09 4.424e+12\n",
      "196 139 5221.45 14.79 1.413e+05 2.869e+08\n",
      "197 139 5236.48 14.56 2.034e+08 4.561e+11\n",
      "201 140 5265.78 14.56 4.441e+03 1.383e+12\n",
      "211 144 5398.88 14.72 1.298e+04 1.967e+07\n",
      "225 152 5515.03 14.53 8.646e+04 1.362e+08\n",
      "238 160 5665.28 14.86 7.546e+04 2.994e+12\n",
      "239 160 5668.53 14.81 1.069e+05 1.453e+13\n",
      "240 161 5669.52 14.85 1.719e+04 5.090e+12\n",
      "243 162 5692.75 14.99 2.722e+05 1.623e+09\n",
      "245 162 5718.60 14.60 4.695e+06 4.344e+10\n",
      "247 168 5746.84 14.86 9.622e+06 1.140e+10\n",
      "263 176 5850.24 14.86 5.780e+06 7.377e+10\n",
      "264 173 5853.95 14.60 6.201e+05 1.386e+13\n",
      "270 178 5932.48 14.67 4.452e+09 9.417e+12\n",
      "273 181 5976.58 14.82 4.468e+05 1.889e+11\n",
      "273 182 5976.58 14.89 2.617e+05 2.430e+09\n",
      "274 181 5993.18 14.58 2.123e+05 2.120e+09\n",
      "274 182 5993.18 14.64 7.910e+06 1.097e+11\n",
      "288 190 6096.55 14.93 2.094e+08 1.351e+13\n",
      "289 188 6101.76 14.80 2.055e+07 4.320e+10\n",
      "291 189 6106.60 14.74 2.998e+05 3.842e+09\n",
      "295 192 6137.78 14.86 8.194e+04 1.050e+08\n",
      "298 194 6173.44 14.53 2.522e+05 5.077e+09\n",
      "312 206 6322.65 14.90 1.063e+06 7.500e+09\n",
      "315 206 6340.75 14.62 2.435e+07 1.027e+10\n",
      "316 206 6342.16 14.60 3.463e+07 6.250e+11\n",
      "335 225 6490.17 14.76 4.925e+07 9.774e+10\n",
      "339 228 6551.14 14.54 2.433e+06 4.284e+10\n",
      "339 232 6551.14 14.85 8.202e+05 1.016e+10\n",
      "345 234 6578.72 14.78 1.733e+04 1.384e+10\n",
      "346 234 6588.12 14.63 3.084e+04 1.821e+08\n",
      "350 241 6636.77 14.88 3.031e+05 6.867e+08\n",
      "355 244 6681.67 14.79 2.448e+06 9.357e+09\n",
      "359 248 6718.70 14.89 2.828e+04 8.590e+11\n",
      "361 250 6756.25 14.71 2.887e+07 2.393e+11\n",
      "369 264 6834.74 14.68 4.019e+04 9.176e+07\n",
      "371 266 6848.36 14.65 1.708e+05 1.258e+09\n",
      "375 268 6881.18 14.57 1.404e+05 4.132e+08\n",
      "379 270 6911.62 14.70 1.119e+08 1.992e+11\n",
      "392 279 6995.04 14.86 7.811e+05 1.774e+10\n",
      "393 278 7009.68 14.56 2.828e+05 3.939e+08\n",
      "395 283 7034.87 14.55 4.899e+05 1.534e+13\n",
      "401 289 7087.91 14.60 2.201e+01 3.775e+11\n",
      "404 293 7120.50 14.53 3.967e+04 4.116e+08\n",
      "404 294 7120.50 14.59 6.398e+05 8.327e+09\n",
      "406 297 7146.46 14.69 7.172e-01 2.633e+11\n",
      "407 297 7147.10 14.68 2.015e+07 4.339e+14\n"
     ]
    }
   ],
   "source": [
    "for i in range(n_transitions):\n",
    "    lam_micron = 3e8*1e6/data_transitions[3,i]\n",
    "    if 14.5 <= lam_micron <= 15.0:\n",
    "        print(int(data_transitions[0,i]), int(data_transitions[1,i]),\n",
    "              '{:.2f}'.format(data_transitions[2,i]),\n",
    "              '{:.2f}'.format(lam_micron),\n",
    "              '{:.3e}'.format(data_transitions[19,i]),\n",
    "              '{:.3e}'.format(data_transitions[20,i]))"
   ]
  },
  {
   "cell_type": "code",
   "execution_count": null,
   "metadata": {},
   "outputs": [],
   "source": []
  }
 ],
 "metadata": {
  "hide_input": false,
  "kernelspec": {
   "display_name": "Python 3 (ipykernel)",
   "language": "python",
   "name": "python3"
  },
  "language_info": {
   "codemirror_mode": {
    "name": "ipython",
    "version": 3
   },
   "file_extension": ".py",
   "mimetype": "text/x-python",
   "name": "python",
   "nbconvert_exporter": "python",
   "pygments_lexer": "ipython3",
   "version": "3.9.15"
  },
  "toc": {
   "base_numbering": 1,
   "nav_menu": {},
   "number_sections": true,
   "sideBar": false,
   "skip_h1_title": false,
   "title_cell": "Table of Contents",
   "title_sidebar": "Contents",
   "toc_cell": false,
   "toc_position": {},
   "toc_section_display": true,
   "toc_window_display": false
  }
 },
 "nbformat": 4,
 "nbformat_minor": 1
}
